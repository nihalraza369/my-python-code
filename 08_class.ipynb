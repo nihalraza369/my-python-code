{
  "nbformat": 4,
  "nbformat_minor": 0,
  "metadata": {
    "colab": {
      "provenance": [],
      "gpuType": "T4"
    },
    "kernelspec": {
      "name": "python3",
      "display_name": "Python 3"
    },
    "language_info": {
      "name": "python"
    },
    "accelerator": "GPU"
  },
  "cells": [
    {
      "cell_type": "code",
      "execution_count": null,
      "metadata": {
        "colab": {
          "base_uri": "https://localhost:8080/"
        },
        "id": "ruIne1Vj5rS0",
        "outputId": "ae8f80f7-a714-4625-be61-4641a190e217"
      },
      "outputs": [
        {
          "output_type": "stream",
          "name": "stdout",
          "text": [
            "hello wolrd\n"
          ]
        }
      ],
      "source": [
        "                                                                                                                                                                                                                                                                                                                                                                                                                                                                                                1111111111111111111111111111111111111111111111111111111111111111111111111111111111111111111111111111111111111111111111111111111111111111111111111111111111111111111111111111111111111111111111111111111111111111111111111111111111111111111111111111111111111111111111111111111111111111111111111111111111111111111111111111111111111111111111111111111111111111111111111111111111111111111111111111111111111111111111111111111111111111111111111111111111111111111111111111111111111111111111111111111111111111111111111111111111111111111111111111111111111111111111111111111111111111111111111111111111111111111111111111111111111111111111111111111111111111111111111111111111111111111111111111111111111111111111111111111111111111111111111111111111111111111111111111111111111111111111111111111111111111111111111111111111111111111111111111111111111111111111111111111111111111111111111111111111111111111111111111111111111111111111111111111111111111111111111111111111111111111111111111111111111111111111111111111111111111111111111111111111111111111111111111111111111111111111111111111111111111111111111111111111111111111111111111111111111111111111111111111111111111111111111111111111111111111111111111111111111111111111111111111111111111111111111111111111111111111111111111111111111111111111111111111111111111111111111111111111111111111111111111111111111111111111111111111111111111111111111111111111111111111111111111111111111111111111111111111111111111111111111111111111111111111111111111111111111111111111111111111111111111111111111111111111111111111111111111111111111111111111111111111111111111111111111111111111111111111111111111111111111111111111111111111111111111111111111111111111111111111111111111111111111111111111111111111111111111111111111111111111111111111111111111111111111111111111111111111111111111111111111111111111111111111111111111111111111111111111111111111111111111111111111111111111111111111111111111111111111111111111111111111111111111111111111111111111111111111111111111111111111111111111111111111111111111111111111111111111111111111111111111111111111111111111111111111111111111111111111111111111111111111111111111111111111111111111111111111111111111111111111111print(\"hello wolrd\")"
      ]
    },
    {
      "cell_type": "code",
      "source": [
        "print(\"hello pakistan\")"
      ],
      "metadata": {
        "colab": {
          "base_uri": "https://localhost:8080/"
        },
        "id": "-2s0wnov6L3e",
        "outputId": "42f2448c-fca6-4b62-c1ea-1c980ebc2fda"
      },
      "execution_count": null,
      "outputs": [
        {
          "output_type": "stream",
          "name": "stdout",
          "text": [
            "hello pakistan\n"
          ]
        }
      ]
    },
    {
      "cell_type": "code",
      "source": [
        "def function_name():\n",
        "  print(\"hello world\")\n",
        "  print(\"hello world\")\n",
        "  print(\"hello pakistan\")\n",
        "  print(\"hello nihal\")"
      ],
      "metadata": {
        "id": "pfoAwDg963Tb"
      },
      "execution_count": null,
      "outputs": []
    },
    {
      "cell_type": "code",
      "source": [
        "function_name()"
      ],
      "metadata": {
        "colab": {
          "base_uri": "https://localhost:8080/"
        },
        "id": "dzJ5dFhw83Pp",
        "outputId": "3db26520-ea58-4fbd-9e06-c0966c90e27a"
      },
      "execution_count": null,
      "outputs": [
        {
          "output_type": "stream",
          "name": "stdout",
          "text": [
            "hello world\n",
            "hello world\n",
            "hello pakistan\n",
            "hello nihal\n"
          ]
        }
      ]
    },
    {
      "cell_type": "code",
      "source": [
        "print(\"hello world\")"
      ],
      "metadata": {
        "colab": {
          "base_uri": "https://localhost:8080/"
        },
        "id": "7ElhHurg87_T",
        "outputId": "24e65220-22b0-4672-d5df-7d0fda59a90f"
      },
      "execution_count": null,
      "outputs": [
        {
          "output_type": "stream",
          "name": "stdout",
          "text": [
            "hello world\n"
          ]
        }
      ]
    },
    {
      "cell_type": "code",
      "source": [
        "function_name()"
      ],
      "metadata": {
        "colab": {
          "base_uri": "https://localhost:8080/"
        },
        "id": "gaFF4QDE9qhq",
        "outputId": "88ebd0a9-8976-4934-a88d-9a71e66a5f0f"
      },
      "execution_count": null,
      "outputs": [
        {
          "output_type": "stream",
          "name": "stdout",
          "text": [
            "hello world\n",
            "hello world\n",
            "hello pakistan\n",
            "hello nihal\n"
          ]
        }
      ]
    },
    {
      "cell_type": "code",
      "source": [
        "nihal=16\n",
        "huzaifa=15\n",
        "print(nihal < huzaifa)\n"
      ],
      "metadata": {
        "colab": {
          "base_uri": "https://localhost:8080/"
        },
        "id": "4q-sGF6-_Pyk",
        "outputId": "5107d90a-7a6a-4d75-d916-6b1705a7d0f1"
      },
      "execution_count": null,
      "outputs": [
        {
          "output_type": "stream",
          "name": "stdout",
          "text": [
            "False\n"
          ]
        }
      ]
    },
    {
      "cell_type": "code",
      "source": [
        "def name():\n",
        "     print(\"nihal ki age badi koi ruk ke dikhye\") if nihal < huzaifa else print(\"huzaifa nihal se chota or chota hi rhe gaa\")\n",
        "\n",
        "\n"
      ],
      "metadata": {
        "id": "9Squt2Rk-VwF"
      },
      "execution_count": null,
      "outputs": []
    },
    {
      "cell_type": "code",
      "source": [
        "name()"
      ],
      "metadata": {
        "colab": {
          "base_uri": "https://localhost:8080/"
        },
        "id": "T3INAFybAu4i",
        "outputId": "1e9a9911-fd9d-483f-9be9-f35a50b18512"
      },
      "execution_count": null,
      "outputs": [
        {
          "output_type": "stream",
          "name": "stdout",
          "text": [
            "huzaifa nihal se chota or chota hi rhe gaa\n"
          ]
        }
      ]
    },
    {
      "cell_type": "code",
      "source": [
        "def greet(name:str):\n",
        "  pello = f\"HELLO {name}\"\n",
        "  return pello"
      ],
      "metadata": {
        "id": "V1Q1ezN8Q3tH"
      },
      "execution_count": null,
      "outputs": []
    },
    {
      "cell_type": "code",
      "source": [
        "name=greet(\"nihal\")\n",
        "print(name)\n",
        "print(greet(\"huzaifa\"))\n",
        "print(greet(\"khizer\"))\n"
      ],
      "metadata": {
        "colab": {
          "base_uri": "https://localhost:8080/"
        },
        "id": "oTxVU3vXRBUW",
        "outputId": "36e48116-3345-4fb7-efd9-9ece8e79c65a"
      },
      "execution_count": null,
      "outputs": [
        {
          "output_type": "stream",
          "name": "stdout",
          "text": [
            "HELLO nihal\n",
            "HELLO huzaifa\n",
            "HELLO khizer\n"
          ]
        }
      ]
    },
    {
      "cell_type": "code",
      "source": [
        "def add(x:int , y:int):\n",
        "  return x+y"
      ],
      "metadata": {
        "id": "RL7NoZ4hRVfA"
      },
      "execution_count": null,
      "outputs": []
    },
    {
      "cell_type": "code",
      "source": [
        "nase=add(2,5)\n",
        "print(nase)"
      ],
      "metadata": {
        "colab": {
          "base_uri": "https://localhost:8080/"
        },
        "id": "J1HdL4gbWBCn",
        "outputId": "dac6abbd-be7c-4f47-beaa-6360dfb0f446"
      },
      "execution_count": null,
      "outputs": [
        {
          "output_type": "stream",
          "name": "stdout",
          "text": [
            "7\n"
          ]
        }
      ]
    },
    {
      "cell_type": "code",
      "source": [
        "def all_add(*nums : int):\n",
        "  print(nums)\n",
        "\n",
        "  return sum(nums)\n"
      ],
      "metadata": {
        "id": "pdiLM6FhWD7w"
      },
      "execution_count": null,
      "outputs": []
    },
    {
      "cell_type": "code",
      "source": [
        "all_add(2,2,10)"
      ],
      "metadata": {
        "colab": {
          "base_uri": "https://localhost:8080/"
        },
        "id": "tldtxWnlmaAo",
        "outputId": "d7ad043f-7b8a-4ce1-c622-02ac3e1a82ce"
      },
      "execution_count": null,
      "outputs": [
        {
          "output_type": "stream",
          "name": "stdout",
          "text": [
            "(2, 2, 10)\n"
          ]
        },
        {
          "output_type": "execute_result",
          "data": {
            "text/plain": [
              "14"
            ]
          },
          "metadata": {},
          "execution_count": 10
        }
      ]
    },
    {
      "cell_type": "code",
      "source": [
        "names=[\"nihal\",\"khizer\",\"habib\"]\n",
        "print(names)"
      ],
      "metadata": {
        "colab": {
          "base_uri": "https://localhost:8080/"
        },
        "id": "6C3IEQTVAv4G",
        "outputId": "b969c78e-52e8-41ec-f14a-0ff6c2963df3"
      },
      "execution_count": null,
      "outputs": [
        {
          "output_type": "stream",
          "name": "stdout",
          "text": [
            "['nihal', 'khizer', 'habib']\n"
          ]
        }
      ]
    },
    {
      "cell_type": "code",
      "source": [
        "for same in names:\n",
        "  print(same.title())"
      ],
      "metadata": {
        "colab": {
          "base_uri": "https://localhost:8080/"
        },
        "id": "BVZZ7BgKEWik",
        "outputId": "5f14fc8e-a5e9-4861-81d8-f333c0364ee6"
      },
      "execution_count": null,
      "outputs": [
        {
          "output_type": "stream",
          "name": "stdout",
          "text": [
            "Nihal\n",
            "Khizer\n",
            "Habib\n"
          ]
        }
      ]
    },
    {
      "cell_type": "code",
      "source": [
        "def flse(*num6:int):\n",
        "  print(num6)\n",
        "  total:int=0\n",
        "  for bilal in num6:\n",
        "    total += bilal\n",
        "    return total"
      ],
      "metadata": {
        "id": "N8PowEIWx3xS"
      },
      "execution_count": null,
      "outputs": []
    },
    {
      "cell_type": "code",
      "source": [
        "tlse=flse(2+2+3)\n",
        "print(tlse)"
      ],
      "metadata": {
        "colab": {
          "base_uri": "https://localhost:8080/"
        },
        "id": "0RoWd23Cy_g1",
        "outputId": "a460effa-bba6-4d06-bbd4-fda36f6da39c"
      },
      "execution_count": null,
      "outputs": [
        {
          "output_type": "stream",
          "name": "stdout",
          "text": [
            "(7,)\n",
            "9\n"
          ]
        }
      ]
    },
    {
      "cell_type": "code",
      "source": [
        "def name(*num:int):\n",
        "  return sum(num)"
      ],
      "metadata": {
        "id": "FnLXHiyVGYQY"
      },
      "execution_count": null,
      "outputs": []
    },
    {
      "cell_type": "code",
      "source": [
        "name(2,2,2)\n"
      ],
      "metadata": {
        "colab": {
          "base_uri": "https://localhost:8080/"
        },
        "id": "7GoNq_jvJG4b",
        "outputId": "4000495b-b714-4ec3-a00e-8950b29338d9"
      },
      "execution_count": null,
      "outputs": [
        {
          "output_type": "execute_result",
          "data": {
            "text/plain": [
              "6"
            ]
          },
          "metadata": {},
          "execution_count": 5
        }
      ]
    },
    {
      "cell_type": "code",
      "source": [
        "def khizer(my_list):\n",
        "   return(my_list)"
      ],
      "metadata": {
        "id": "bzPcj9wrOqYH"
      },
      "execution_count": null,
      "outputs": []
    },
    {
      "cell_type": "code",
      "source": [
        "result = khizer([2,3,4,5])\n",
        "print(type(result))"
      ],
      "metadata": {
        "colab": {
          "base_uri": "https://localhost:8080/"
        },
        "id": "BuxgfcNNPOBd",
        "outputId": "4490dd01-d8ef-49c7-c1b7-cf0f4ebf1302"
      },
      "execution_count": null,
      "outputs": [
        {
          "output_type": "stream",
          "name": "stdout",
          "text": [
            "<class 'list'>\n"
          ]
        }
      ]
    },
    {
      "cell_type": "code",
      "source": [
        "def nihal (my_list1):\n",
        "  return(my_list1)"
      ],
      "metadata": {
        "id": "nzs2ab6XSNq-"
      },
      "execution_count": null,
      "outputs": []
    },
    {
      "cell_type": "code",
      "source": [
        "result1 =nihal({1,2,\"nihal\",2.1})\n",
        "print(type(result1))"
      ],
      "metadata": {
        "colab": {
          "base_uri": "https://localhost:8080/"
        },
        "id": "6DB4fDxJSV94",
        "outputId": "3e4d5846-2844-4e30-dcc1-b3a500c379cf"
      },
      "execution_count": null,
      "outputs": [
        {
          "output_type": "stream",
          "name": "stdout",
          "text": [
            "<class 'set'>\n"
          ]
        }
      ]
    },
    {
      "cell_type": "code",
      "source": [
        "def huzaifa(my_list2):\n",
        "  return(my_list2)"
      ],
      "metadata": {
        "id": "2PCpWry0TNYL"
      },
      "execution_count": null,
      "outputs": []
    },
    {
      "cell_type": "code",
      "source": [
        "result2=huzaifa((\"nihal\",\"habib\",\"khizer\"))\n",
        "print(type(result2))"
      ],
      "metadata": {
        "colab": {
          "base_uri": "https://localhost:8080/"
        },
        "id": "wlP01uIOTaeK",
        "outputId": "801a801f-ac77-4e3d-eeb9-35c865ec428a"
      },
      "execution_count": null,
      "outputs": [
        {
          "output_type": "stream",
          "name": "stdout",
          "text": [
            "<class 'tuple'>\n"
          ]
        }
      ]
    },
    {
      "cell_type": "code",
      "source": [
        "def add_all(*num:int):\n",
        "    return sum(num)"
      ],
      "metadata": {
        "id": "xIQ03XpIxgeg"
      },
      "execution_count": null,
      "outputs": []
    },
    {
      "cell_type": "code",
      "source": [
        "add_all(1350,2000,3000)"
      ],
      "metadata": {
        "colab": {
          "base_uri": "https://localhost:8080/"
        },
        "id": "kH6mvDukxhN7",
        "outputId": "6ae6f008-6223-4074-92c5-1a38c484777b"
      },
      "execution_count": null,
      "outputs": [
        {
          "output_type": "execute_result",
          "data": {
            "text/plain": [
              "6350"
            ]
          },
          "metadata": {},
          "execution_count": 15
        }
      ]
    },
    {
      "cell_type": "code",
      "source": [
        "def apply_dis(price :int, discount:float):\n",
        "    return price-(price * discount/100)"
      ],
      "metadata": {
        "id": "gMQpYdJww-Ew"
      },
      "execution_count": null,
      "outputs": []
    },
    {
      "cell_type": "code",
      "source": [
        "total_price=apply_dis(1350,5)\n",
        "print(total_price)"
      ],
      "metadata": {
        "colab": {
          "base_uri": "https://localhost:8080/"
        },
        "id": "CJyHXyZe2rWW",
        "outputId": "38b601ed-69f0-49fa-97f2-03c301b4857b"
      },
      "execution_count": null,
      "outputs": [
        {
          "output_type": "stream",
          "name": "stdout",
          "text": [
            "1282.5\n"
          ]
        }
      ]
    },
    {
      "cell_type": "code",
      "source": [
        "def apply_doc(price:int):\n",
        "  discount:float=0\n",
        "  if price<=10000:\n",
        "    discount=10\n",
        "  elif price <=50000 :\n",
        "    discount=30\n",
        "  else:\n",
        "      discount= 50\n",
        "      print(\"finally complete\",discount)\n",
        "  return  price -(price * discount/100 )\n",
        "\n"
      ],
      "metadata": {
        "id": "3gh6WoSV6AnZ"
      },
      "execution_count": null,
      "outputs": []
    },
    {
      "cell_type": "code",
      "source": [
        "total_price=add_all(1350,1500,500)\n",
        "apply_discount(total_price)"
      ],
      "metadata": {
        "colab": {
          "base_uri": "https://localhost:8080/"
        },
        "id": "GwxdNEPS7Zv7",
        "outputId": "0f6662e7-c8d7-4bf7-d210-01a5679a85b3"
      },
      "execution_count": null,
      "outputs": [
        {
          "output_type": "stream",
          "name": "stdout",
          "text": [
            "(1350, 1500, 500)\n"
          ]
        },
        {
          "output_type": "execute_result",
          "data": {
            "text/plain": [
              "3015.0"
            ]
          },
          "metadata": {},
          "execution_count": 81
        }
      ]
    }
  ]
}
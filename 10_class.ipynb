{
  "nbformat": 4,
  "nbformat_minor": 0,
  "metadata": {
    "colab": {
      "provenance": [],
      "gpuType": "T4"
    },
    "kernelspec": {
      "name": "python3",
      "display_name": "Python 3"
    },
    "language_info": {
      "name": "python"
    },
    "accelerator": "GPU"
  },
  "cells": [
    {
      "cell_type": "markdown",
      "source": [
        "##**Instance** Method"
      ],
      "metadata": {
        "id": "Q2W4emtxKLSi"
      }
    },
    {
      "cell_type": "code",
      "source": [
        "class Car:\n",
        "    def __init__(self, bland, model, year):\n",
        "              self.bland = bland\n",
        "        self.model = model\n",
        "               self.year = year\n",
        "\n",
        "    def display_info(self):\n",
        "        print(f\"bland; {self.bland} , model; {self.model} , year; {self.year}\")\n",
        "\n",
        "\n",
        "my_car = Car(\"Toyota\", \"Corolla\", 2020)\n",
        "\n",
        "my_car.display_info()\n"
      ],
      "metadata": {
        "id": "LstiDo4d1RZ9",
        "colab": {
          "base_uri": "https://localhost:8080/"
        },
        "outputId": "5fd4ec62-68e5-4672-949f-4f2367f6ea6f"
      },
      "execution_count": null,
      "outputs": [
        {
          "output_type": "stream",
          "name": "stdout",
          "text": [
            "bland; Toyota , model; Corolla , year; 2020\n"
          ]
        }
      ]
    }
  ]
}
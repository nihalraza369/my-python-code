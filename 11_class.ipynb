{
  "nbformat": 4,
  "nbformat_minor": 0,
  "metadata": {
    "colab": {
      "provenance": []
    },
    "kernelspec": {
      "name": "python3",
      "display_name": "Python 3"
    },
    "language_info": {
      "name": "python"
    }
  },
  "cells": [
    {
      "cell_type": "markdown",
      "source": [
        "# **Overriding**"
      ],
      "metadata": {
        "id": "RPnmkz9Ue2wt"
      }
    },
    {
      "cell_type": "code",
      "execution_count": 22,
      "metadata": {
        "colab": {
          "base_uri": "https://localhost:8080/"
        },
        "id": "eosHVu2TW9L9",
        "outputId": "3d8eb86b-ad95-4b85-dfe6-d55f247c9f75"
      },
      "outputs": [
        {
          "output_type": "stream",
          "name": "stdout",
          "text": [
            "cat is eating bread\n",
            "animal is eating grass\n"
          ]
        }
      ],
      "source": [
        "class animal():\n",
        "      def eating(self,food:str):\n",
        "          print(f\"animal is eating {food}\")\n",
        "\n",
        "class cat(animal):\n",
        "     def eating(self,food:str):\n",
        "         print(f\"cat is eating {food}\")\n",
        "\n",
        "\n",
        "Bird:cat= cat()\n",
        "Bird.eating(\"bread\")\n",
        "\n",
        "\n",
        "Animal: animal = animal()\n",
        "Animal.eating(\"grass\")\n"
      ]
    },
    {
      "cell_type": "code",
      "source": [
        "Animal: animal =cat()\n",
        "Animal.eating(\"grass\")\n",
        "Animal.eating(\"bread\")\n",
        "Animal.eating(\"chiken\")"
      ],
      "metadata": {
        "colab": {
          "base_uri": "https://localhost:8080/"
        },
        "id": "pcq3csMSZ0sI",
        "outputId": "5c55bb30-ed3f-4c32-b7fa-500f2ea5adc8"
      },
      "execution_count": 27,
      "outputs": [
        {
          "output_type": "stream",
          "name": "stdout",
          "text": [
            "cat is eating grass\n",
            "cat is eating bread\n",
            "cat is eating chiken\n"
          ]
        }
      ]
    },
    {
      "cell_type": "markdown",
      "source": [
        "##**Overloading**"
      ],
      "metadata": {
        "id": "iclkAucpIeo8"
      }
    },
    {
      "cell_type": "code",
      "source": [
        "class Calculator:\n",
        "    def add(self, a, b, c=0):\n",
        "        return a + b + c\n",
        "\n",
        "calc = Calculator()\n",
        "print(calc.add(2, 3))\n",
        "print(calc.add(2, 3, 4))\n"
      ],
      "metadata": {
        "colab": {
          "base_uri": "https://localhost:8080/"
        },
        "id": "tXf-ic1qIU4k",
        "outputId": "89c2a173-748a-4fd1-8048-8d559636f541"
      },
      "execution_count": 36,
      "outputs": [
        {
          "output_type": "stream",
          "name": "stdout",
          "text": [
            "5\n",
            "9\n"
          ]
        }
      ]
    },
    {
      "cell_type": "markdown",
      "source": [
        "##**staticmethod**"
      ],
      "metadata": {
        "id": "TfKBiGn2wlOH"
      }
    },
    {
      "cell_type": "code",
      "source": [
        "class MathOperations:\n",
        "    @staticmethod\n",
        "    def add(a, b):  # Static method\n",
        "        return a + b\n",
        "    @staticmethod\n",
        "    def add(c,d):\n",
        "        return c+d\n",
        "# Calling static method without instance\n",
        "result = MathOperations.add(3, 5)\n",
        "print(result)  # Output: 8\n",
        "result = MathOperations.add(3, 3)\n",
        "print(result)  # Output: 8\n"
      ],
      "metadata": {
        "colab": {
          "base_uri": "https://localhost:8080/"
        },
        "id": "kNEGMMuJfM51",
        "outputId": "fcdab8e9-19c6-4d6f-ca39-720358b67356"
      },
      "execution_count": 29,
      "outputs": [
        {
          "output_type": "stream",
          "name": "stdout",
          "text": [
            "8\n",
            "6\n"
          ]
        }
      ]
    },
    {
      "cell_type": "markdown",
      "source": [
        "##**Classmethod**"
      ],
      "metadata": {
        "id": "AZktKDeRxApl"
      }
    },
    {
      "cell_type": "code",
      "source": [
        "class Dog:\n",
        "    species = \"Canine\"\n",
        "\n",
        "    def __init__(self, name):\n",
        "        self.name = name\n",
        "\n",
        "    @classmethod\n",
        "    def get_species(cls):\n",
        "        return cls.species\n",
        "\n",
        "dog1 = Dog(\"Tommy\")\n",
        "print(dog1.name)\n"
      ],
      "metadata": {
        "colab": {
          "base_uri": "https://localhost:8080/"
        },
        "id": "ZNbegI5kvFZ0",
        "outputId": "b3a6c97c-2619-4ddb-a604-62c87c5f0382"
      },
      "execution_count": 34,
      "outputs": [
        {
          "output_type": "stream",
          "name": "stdout",
          "text": [
            "Tommy\n"
          ]
        }
      ]
    }
  ]
}
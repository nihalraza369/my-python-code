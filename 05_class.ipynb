{
  "nbformat": 4,
  "nbformat_minor": 0,
  "metadata": {
    "colab": {
      "provenance": []
    },
    "kernelspec": {
      "name": "python3",
      "display_name": "Python 3"
    },
    "language_info": {
      "name": "python"
    }
  },
  "cells": [
    {
      "cell_type": "code",
      "execution_count": null,
      "metadata": {
        "id": "6TQHQHh_o-Xf"
      },
      "outputs": [],
      "source": [
        "info={\n",
        "    \"name\":\"nihal raza\",\"class\":\"10\",\"age\":\"16\",\"gender\":\"male\"\n",
        "}\n"
      ]
    },
    {
      "cell_type": "code",
      "source": [
        "print(info)"
      ],
      "metadata": {
        "colab": {
          "base_uri": "https://localhost:8080/"
        },
        "id": "B4IVqtz-pjON",
        "outputId": "27e73442-2238-455b-f011-9bf19147d2e7"
      },
      "execution_count": null,
      "outputs": [
        {
          "output_type": "stream",
          "name": "stdout",
          "text": [
            "{'name': 'nihal raza', 'class': '10', 'age': '16', 'gender': 'male'}\n"
          ]
        }
      ]
    },
    {
      "cell_type": "code",
      "source": [
        "print(info.values())"
      ],
      "metadata": {
        "colab": {
          "base_uri": "https://localhost:8080/"
        },
        "id": "jMMqiwBVrLX7",
        "outputId": "16b04159-099d-4ab3-ab83-18ad8c54c85f"
      },
      "execution_count": null,
      "outputs": [
        {
          "output_type": "stream",
          "name": "stdout",
          "text": [
            "dict_values(['nihal raza', '10', '16', 'male'])\n"
          ]
        }
      ]
    },
    {
      "cell_type": "code",
      "source": [
        "print(info.keys())"
      ],
      "metadata": {
        "colab": {
          "base_uri": "https://localhost:8080/"
        },
        "id": "uRAeOCwCq4Wm",
        "outputId": "7ddfeba9-b33b-41af-9ee5-28318d5b1b47"
      },
      "execution_count": null,
      "outputs": [
        {
          "output_type": "stream",
          "name": "stdout",
          "text": [
            "dict_keys(['name', 'class', 'age', 'gender'])\n"
          ]
        }
      ]
    },
    {
      "cell_type": "code",
      "source": [
        "print(type(info))"
      ],
      "metadata": {
        "colab": {
          "base_uri": "https://localhost:8080/"
        },
        "id": "FccAFbKjtALU",
        "outputId": "1ee8599e-2e34-43a1-a169-a9d30684c5db"
      },
      "execution_count": null,
      "outputs": [
        {
          "output_type": "stream",
          "name": "stdout",
          "text": [
            "<class 'dict'>\n"
          ]
        }
      ]
    },
    {
      "cell_type": "code",
      "source": [
        "print(info[\"name\"])"
      ],
      "metadata": {
        "colab": {
          "base_uri": "https://localhost:8080/"
        },
        "id": "bJq10gncpkaH",
        "outputId": "11c049a9-158b-42ee-b4c7-247a1fc88d49"
      },
      "execution_count": null,
      "outputs": [
        {
          "output_type": "stream",
          "name": "stdout",
          "text": [
            "nihal raza\n"
          ]
        }
      ]
    },
    {
      "cell_type": "code",
      "source": [
        " print(info.get(\"fname\"))"
      ],
      "metadata": {
        "colab": {
          "base_uri": "https://localhost:8080/"
        },
        "id": "YU-ngsycpyhV",
        "outputId": "2a6185d4-e6ca-44af-947e-64e565eb354d"
      },
      "execution_count": null,
      "outputs": [
        {
          "output_type": "stream",
          "name": "stdout",
          "text": [
            "None\n"
          ]
        }
      ]
    },
    {
      "cell_type": "code",
      "source": [
        "grace_grammer={\n",
        "    \"name\":\"noni paa\",\n",
        "  \"subject\":{\n",
        "      \"math\":20,\n",
        "      \"computer\":{\n",
        "          \"nihal\":100,\n",
        "          \"fezan\":15,\n",
        "          \"rafay\":2\n",
        "      }\n",
        "\n",
        "  }\n",
        "}"
      ],
      "metadata": {
        "id": "EB1lhoVBySHT"
      },
      "execution_count": null,
      "outputs": []
    },
    {
      "cell_type": "code",
      "source": [
        "print (grace_grammer.keys())"
      ],
      "metadata": {
        "colab": {
          "base_uri": "https://localhost:8080/"
        },
        "id": "Y5UR9GD81cm5",
        "outputId": "d43fb586-91ac-4536-e821-ca93e83a6b82"
      },
      "execution_count": null,
      "outputs": [
        {
          "output_type": "stream",
          "name": "stdout",
          "text": [
            "dict_keys(['name', 'subject'])\n"
          ]
        }
      ]
    },
    {
      "cell_type": "code",
      "source": [
        "grace_grammer.items()"
      ],
      "metadata": {
        "colab": {
          "base_uri": "https://localhost:8080/"
        },
        "id": "0CWQor8R3Xht",
        "outputId": "8de5dc79-8f9d-4977-863f-e76be0b3baab"
      },
      "execution_count": null,
      "outputs": [
        {
          "output_type": "execute_result",
          "data": {
            "text/plain": [
              "dict_items([('name', 'noni paa'), ('subject', {'math': 20, 'computer': {'nihal': 100, 'fezan': 15, 'rafay': 2}})])"
            ]
          },
          "metadata": {},
          "execution_count": 80
        }
      ]
    },
    {
      "cell_type": "code",
      "source": [
        "grace_grammer.update({\"name\":\"noni paa\",\"city\":\"karachi\",\"roll number\":2+1})"
      ],
      "metadata": {
        "id": "xHMPZNed3wvJ"
      },
      "execution_count": null,
      "outputs": []
    },
    {
      "cell_type": "code",
      "source": [
        "print(grace_grammer)"
      ],
      "metadata": {
        "colab": {
          "base_uri": "https://localhost:8080/"
        },
        "id": "_LIF7k7-AqDS",
        "outputId": "24b333f4-2bf2-44c7-b7a1-5633aaa8c0a1"
      },
      "execution_count": null,
      "outputs": [
        {
          "output_type": "stream",
          "name": "stdout",
          "text": [
            "{'name': 'noni paa', 'subject': {'math': 20, 'computer': {'nihal': 100, 'fezan': 15, 'rafay': 2}}, 'city': 'karachi', 'roll number': 3}\n"
          ]
        }
      ]
    },
    {
      "cell_type": "code",
      "source": [
        "print(grace_grammer[\"subject\"][\"computer\"][\"nihal\"])"
      ],
      "metadata": {
        "colab": {
          "base_uri": "https://localhost:8080/"
        },
        "id": "FxJLKdq9zAUK",
        "outputId": "1bc9e533-399b-4038-d902-7ee534ee13e4"
      },
      "execution_count": null,
      "outputs": [
        {
          "output_type": "stream",
          "name": "stdout",
          "text": [
            "100\n"
          ]
        }
      ]
    }
  ]
}
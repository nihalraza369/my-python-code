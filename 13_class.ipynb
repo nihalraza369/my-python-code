{
  "nbformat": 4,
  "nbformat_minor": 0,
  "metadata": {
    "colab": {
      "provenance": []
    },
    "kernelspec": {
      "name": "python3",
      "display_name": "Python 3"
    },
    "language_info": {
      "name": "python"
    }
  },
  "cells": [
    {
      "cell_type": "markdown",
      "source": [
        "##**Decorater**"
      ],
      "metadata": {
        "id": "3vvTCmh4RY1r"
      }
    },
    {
      "cell_type": "code",
      "source": [
        "def greet(v):\n",
        "  def i():\n",
        "    print(\"good morning!\")\n",
        "    v()\n",
        "    print(\"thank for sharing\")\n",
        "  return i\n",
        "@greet\n",
        "def hello():\n",
        "    print(\"hello world\")\n",
        "hello()"
      ],
      "metadata": {
        "colab": {
          "base_uri": "https://localhost:8080/"
        },
        "id": "qUDJprkcOO_B",
        "outputId": "c68adc24-137f-40a7-f6a5-4d9c5d3a4a01"
      },
      "execution_count": 6,
      "outputs": [
        {
          "output_type": "stream",
          "name": "stdout",
          "text": [
            "good morning!\n",
            "hello world\n",
            "thank for sharing\n"
          ]
        }
      ]
    },
    {
      "cell_type": "code",
      "source": [
        "def greet(v):\n",
        "  def i():\n",
        "    print(\"good morning!\")\n",
        "    v()\n",
        "    print(\"thank for sharing\")\n",
        "  return i\n",
        "  def hello():\n",
        "    (\"hello world\")\n",
        "greet(hello)()"
      ],
      "metadata": {
        "colab": {
          "base_uri": "https://localhost:8080/"
        },
        "id": "_fmM4-YqPai-",
        "outputId": "5ede74df-a706-4230-c123-e759624350c8"
      },
      "execution_count": 8,
      "outputs": [
        {
          "output_type": "stream",
          "name": "stdout",
          "text": [
            "good morning!\n",
            "good morning!\n",
            "hello world\n",
            "thank for sharing\n",
            "thank for sharing\n"
          ]
        }
      ]
    },
    {
      "cell_type": "code",
      "execution_count": 1,
      "metadata": {
        "colab": {
          "base_uri": "https://localhost:8080/"
        },
        "id": "-fPkBD_6J8gB",
        "outputId": "50724a65-36ef-4e0a-8953-fbab8cce8365"
      },
      "outputs": [
        {
          "output_type": "stream",
          "name": "stdout",
          "text": [
            "Before function call\n",
            "Hello!\n",
            "After function call\n"
          ]
        }
      ],
      "source": [
        "def my_decorator(func):\n",
        "    def wrapper():\n",
        "        print(\"Before function call\")\n",
        "        func()\n",
        "        print(\"After function call\")\n",
        "    return wrapper\n",
        "\n",
        "def say_hello():\n",
        "    print(\"Hello!\")\n",
        "\n",
        "\n",
        "@my_decorator\n",
        "def say_hello():\n",
        "    print(\"Hello!\")\n",
        "\n",
        "say_hello()\n"
      ]
    },
    {
      "cell_type": "markdown",
      "source": [
        "# **Decorater With *Args & ** Kwargs**"
      ],
      "metadata": {
        "id": "wHzwptj3RsWh"
      }
    },
    {
      "cell_type": "code",
      "source": [
        "def my_decorator(func):\n",
        "    def wrapper(*args, **kwargs):\n",
        "        print(\"Before function call\")\n",
        "        result = func(*args, **kwargs)\n",
        "        print(\"After function call\")\n",
        "        return result\n",
        "    return wrapper\n",
        "\n",
        "@my_decorator\n",
        "def greet(name):\n",
        "    print(f\"Hello, {name}!\")\n",
        "\n",
        "greet(\"nihal\")\n"
      ],
      "metadata": {
        "colab": {
          "base_uri": "https://localhost:8080/"
        },
        "id": "0e6C6Uc7NefS",
        "outputId": "4fb3df8a-927e-47e3-b2ba-8855e8814314"
      },
      "execution_count": 3,
      "outputs": [
        {
          "output_type": "stream",
          "name": "stdout",
          "text": [
            "Before function call\n",
            "Hello, nihal!\n",
            "After function call\n"
          ]
        }
      ]
    }
  ]
}
{
  "nbformat": 4,
  "nbformat_minor": 0,
  "metadata": {
    "colab": {
      "provenance": [],
      "gpuType": "T4"
    },
    "kernelspec": {
      "name": "python3",
      "display_name": "Python 3"
    },
    "language_info": {
      "name": "python"
    },
    "accelerator": "GPU"
  },
  "cells": [
    {
      "cell_type": "code",
      "execution_count": null,
      "metadata": {
        "colab": {
          "base_uri": "https://localhost:8080/"
        },
        "id": "MlbrjtvAPVBN",
        "outputId": "c56dab67-48ab-4840-e0f5-9d4f5ddcb251"
      },
      "outputs": [
        {
          "output_type": "stream",
          "name": "stdout",
          "text": [
            "hello world\n"
          ]
        }
      ],
      "source": [
        "print(\"hello world\")"
      ]
    },
    {
      "cell_type": "code",
      "source": [
        "print(True == 2)"
      ],
      "metadata": {
        "colab": {
          "base_uri": "https://localhost:8080/"
        },
        "id": "GqGBF_48Pjyf",
        "outputId": "12af8d27-905a-4638-c003-97b152f59a37"
      },
      "execution_count": null,
      "outputs": [
        {
          "output_type": "stream",
          "name": "stdout",
          "text": [
            "False\n"
          ]
        }
      ]
    },
    {
      "cell_type": "code",
      "source": [
        "print(10==10)\n",
        "print(10>5)\n",
        "print(5<10)\n",
        "print(10>=11)\n",
        "print(10<=10)\n",
        "print(10!=9)\n"
      ],
      "metadata": {
        "colab": {
          "base_uri": "https://localhost:8080/"
        },
        "id": "ttjnhfheP7Tv",
        "outputId": "67d46c61-66e3-4305-e9c9-a16ce0862209"
      },
      "execution_count": null,
      "outputs": [
        {
          "output_type": "stream",
          "name": "stdout",
          "text": [
            "True\n",
            "True\n",
            "True\n",
            "False\n",
            "True\n",
            "True\n"
          ]
        }
      ]
    },
    {
      "cell_type": "code",
      "source": [
        "name:str=\"nihal\"\n",
        "print( \"i\" not in name)\n",
        "print(\"a\"in name)"
      ],
      "metadata": {
        "colab": {
          "base_uri": "https://localhost:8080/"
        },
        "id": "kb3j0p6JQh0t",
        "outputId": "4eb04b0e-8339-48d8-a7d2-59ae5762ef0e"
      },
      "execution_count": null,
      "outputs": [
        {
          "output_type": "stream",
          "name": "stdout",
          "text": [
            "False\n",
            "True\n"
          ]
        }
      ]
    },
    {
      "cell_type": "code",
      "source": [
        "n=15\n",
        "h=15\n",
        "print(n+h)\n",
        "print(n-h)\n",
        "print(n*h)\n",
        "print(n/h)\n",
        "print(n%h)\n",
        "print(n**h)\n",
        "print(n//h)\n"
      ],
      "metadata": {
        "colab": {
          "base_uri": "https://localhost:8080/"
        },
        "id": "ZJ7MAYGjcF0q",
        "outputId": "5690c240-c4b8-4b6f-8624-11f3bd070a74"
      },
      "execution_count": null,
      "outputs": [
        {
          "output_type": "stream",
          "name": "stdout",
          "text": [
            "30\n",
            "0\n",
            "225\n",
            "1.0\n",
            "0\n",
            "437893890380859375\n",
            "1\n"
          ]
        }
      ]
    }
  ]
}
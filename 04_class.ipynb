{
  "nbformat": 4,
  "nbformat_minor": 0,
  "metadata": {
    "colab": {
      "provenance": []
    },
    "kernelspec": {
      "name": "python3",
      "display_name": "Python 3"
    },
    "language_info": {
      "name": "python"
    }
  },
  "cells": [
    {
      "cell_type": "code",
      "execution_count": 2,
      "metadata": {
        "id": "Kszg-8uIDdwY"
      },
      "outputs": [],
      "source": [
        "#dict\n",
        "all_student_name:dict={\n",
        "    \"name\":\"habib ur rehman\",\n",
        "    \"name1\":\"nihal raza\",\n",
        "    \"name2\":\"sheikh huzaifa\",\n",
        "    \"name3\":\"khizer zahid\"\n",
        "}"
      ]
    },
    {
      "cell_type": "code",
      "source": [
        "print(all_student_name)"
      ],
      "metadata": {
        "colab": {
          "base_uri": "https://localhost:8080/"
        },
        "id": "yIMLeoWRDupV",
        "outputId": "3a21cde1-1cf9-4c73-ed97-8cebf560b22d"
      },
      "execution_count": 10,
      "outputs": [
        {
          "output_type": "stream",
          "name": "stdout",
          "text": [
            "{'name': 'habib ur rehman', 'name1': 'nihal raza', 'name2': 'sheikh huzaifa', 'name3': 'khizer zahid'}\n"
          ]
        }
      ]
    },
    {
      "cell_type": "code",
      "source": [
        "print(all_student_name[\"name1\"])"
      ],
      "metadata": {
        "colab": {
          "base_uri": "https://localhost:8080/"
        },
        "id": "0LwEd3rkETE2",
        "outputId": "02b01081-fa48-4d93-f51b-4177c87cc4a8"
      },
      "execution_count": 8,
      "outputs": [
        {
          "output_type": "stream",
          "name": "stdout",
          "text": [
            "nihal raza\n"
          ]
        }
      ]
    },
    {
      "cell_type": "code",
      "source": [
        "for all in all_student_name:\n",
        "   print(f\"{all}:{all_student_name[all]}\")"
      ],
      "metadata": {
        "colab": {
          "base_uri": "https://localhost:8080/"
        },
        "id": "ldAavSGvEkW8",
        "outputId": "aff907a1-b7fb-46b6-a389-11f6d2d5ed9c"
      },
      "execution_count": 13,
      "outputs": [
        {
          "output_type": "stream",
          "name": "stdout",
          "text": [
            "name:habib ur rehman\n",
            "name1:nihal raza\n",
            "name2:sheikh huzaifa\n",
            "name3:khizer zahid\n"
          ]
        }
      ]
    },
    {
      "cell_type": "code",
      "source": [
        "s1= {\"nihal\":\"nihal raza\",\n",
        "     \"khizer\":\"khizer zahid\",\n",
        "     \"habib\":\"habib ur rehman\",\n",
        "     \"huzaifa\":\"shiekh huzaifa\",\n",
        "     \"fatima\":\"fatima qandeel\",\n",
        "     \"saima\":\"saima appi\"\n",
        "     }\n",
        "print(s1)"
      ],
      "metadata": {
        "colab": {
          "base_uri": "https://localhost:8080/"
        },
        "id": "pBi8jJffHqQB",
        "outputId": "320d93fb-ce4d-4c1a-fa02-71723192b85d"
      },
      "execution_count": 14,
      "outputs": [
        {
          "output_type": "stream",
          "name": "stdout",
          "text": [
            "{'nihal': 'nihal raza', 'khizer': 'khizer zahid', 'habib': 'habib ur rehman', 'huzaifa': 'shiekh huzaifa', 'fatima': 'fatima qandeel', 'saima': 'saima appi'}\n"
          ]
        }
      ]
    },
    {
      "cell_type": "code",
      "source": [
        "print(type(s1))"
      ],
      "metadata": {
        "colab": {
          "base_uri": "https://localhost:8080/"
        },
        "id": "Qvv6ICBOH3kW",
        "outputId": "3f643a6e-cdfb-41cd-c0b1-c390d8abd972"
      },
      "execution_count": 16,
      "outputs": [
        {
          "output_type": "stream",
          "name": "stdout",
          "text": [
            "<class 'dict'>\n"
          ]
        }
      ]
    },
    {
      "cell_type": "code",
      "source": [
        "for s in s1:\n",
        "    print(f\" {s1[s].upper()} and short name {s.title()}\") #title,upper,capitalize"
      ],
      "metadata": {
        "colab": {
          "base_uri": "https://localhost:8080/"
        },
        "id": "_Yj2s7M7Hw0t",
        "outputId": "47f9f2f9-ed81-4d66-9f9b-055271fe702f"
      },
      "execution_count": 15,
      "outputs": [
        {
          "output_type": "stream",
          "name": "stdout",
          "text": [
            " NIHAL RAZA and short name Nihal\n",
            " KHIZER ZAHID and short name Khizer\n",
            " HABIB UR REHMAN and short name Habib\n",
            " SHIEKH HUZAIFA and short name Huzaifa\n",
            " FATIMA QANDEEL and short name Fatima\n",
            " SAIMA APPI and short name Saima\n"
          ]
        }
      ]
    },
    {
      "cell_type": "code",
      "source": [
        "#set\n",
        "all_student_set:set={2,3,4,\"nihal\",\"dnd\"}\n",
        "print(all_student_set)"
      ],
      "metadata": {
        "colab": {
          "base_uri": "https://localhost:8080/"
        },
        "id": "YBXRDrnSMCYu",
        "outputId": "67381a1d-a8a9-4767-9176-a738e79753db"
      },
      "execution_count": 17,
      "outputs": [
        {
          "output_type": "stream",
          "name": "stdout",
          "text": [
            "{2, 3, 4, 'dnd', 'nihal'}\n"
          ]
        }
      ]
    },
    {
      "cell_type": "code",
      "source": [
        "for all in all_student_set:\n",
        "  print(all)"
      ],
      "metadata": {
        "colab": {
          "base_uri": "https://localhost:8080/"
        },
        "id": "-Jt7WSFCM8M8",
        "outputId": "b11e5ee8-858d-4977-a993-4c386ff874de"
      },
      "execution_count": 18,
      "outputs": [
        {
          "output_type": "stream",
          "name": "stdout",
          "text": [
            "2\n",
            "3\n",
            "4\n",
            "dnd\n",
            "nihal\n"
          ]
        }
      ]
    }
  ]
}
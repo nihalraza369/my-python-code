{
  "nbformat": 4,
  "nbformat_minor": 0,
  "metadata": {
    "colab": {
      "provenance": [],
      "gpuType": "T4"
    },
    "kernelspec": {
      "name": "python3",
      "display_name": "Python 3"
    },
    "language_info": {
      "name": "python"
    },
    "accelerator": "GPU"
  },
  "cells": [
    {
      "cell_type": "code",
      "execution_count": null,
      "metadata": {
        "colab": {
          "base_uri": "https://localhost:8080/"
        },
        "id": "vFXWClIdmwx1",
        "outputId": "b97a2d7a-850e-420f-d182-1a9fc2df48af"
      },
      "outputs": [
        {
          "output_type": "stream",
          "name": "stdout",
          "text": [
            "hello world\n"
          ]
        }
      ],
      "source": [
        "print(\"hello world\")"
      ]
    },
    {
      "cell_type": "code",
      "source": [
        "name=\"nihal raza\"\n",
        "age= 16\n",
        "fatherName=\"nughman hussain\"\n",
        "education=\"metric\"\n",
        "religion=\"islam\"\n"
      ],
      "metadata": {
        "id": "ZLKhEjCNoK_w"
      },
      "execution_count": null,
      "outputs": []
    },
    {
      "cell_type": "code",
      "source": [
        "print(f\"name:{name}\")\n",
        "print(f\"age:{age}\")\n",
        "print(f\"fatherName:{fatherName}\")\n",
        "print(f\"education:{education}\")\n",
        "print(f\"religion:{religion}\")\n",
        "\n"
      ],
      "metadata": {
        "colab": {
          "base_uri": "https://localhost:8080/"
        },
        "id": "hqpo28t7qNwQ",
        "outputId": "2c678fcf-71d5-4667-975c-9d9874fd85c3"
      },
      "execution_count": null,
      "outputs": [
        {
          "output_type": "stream",
          "name": "stdout",
          "text": [
            "name:nihal raza\n",
            "age:16\n",
            "fatherName:nughman hussain\n",
            "education:metric\n",
            "religion:islam\n"
          ]
        }
      ]
    }
  ]
}
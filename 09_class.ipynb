{
  "nbformat": 4,
  "nbformat_minor": 0,
  "metadata": {
    "colab": {
      "provenance": [],
      "gpuType": "T4"
    },
    "kernelspec": {
      "name": "python3",
      "display_name": "Python 3"
    },
    "language_info": {
      "name": "python"
    },
    "accelerator": "GPU"
  },
  "cells": [
    {
      "cell_type": "code",
      "source": [
        "#ZeroDivisionError;\n",
        "#Jab aap kisi number ko zero se divide karte ho, to ye error hoti hai.\n",
        "#Example:\n",
        "try:\n",
        "    result = 10 / 0\n",
        "except ZeroDivisionError:\n",
        "    print(\"You cannot divide by zero!\")"
      ],
      "metadata": {
        "id": "dV90p8PqaNRi",
        "colab": {
          "base_uri": "https://localhost:8080/"
        },
        "outputId": "d4af1542-1f48-4b84-ba83-4c341d98c78f"
      },
      "execution_count": 3,
      "outputs": [
        {
          "output_type": "stream",
          "name": "stdout",
          "text": [
            "You cannot divide by zero!\n"
          ]
        }
      ]
    },
    {
      "cell_type": "code",
      "source": [
        "#ValueError;\n",
        "#Jab aap koi invalid value dete ho jo required type se match nahi karti.\n",
        "#Example:\n",
        "try:\n",
        "    number = int(\"abc\")  # \"abc\" ko integer mein convert nahi kar sakte\n",
        "except ValueError:\n",
        "    print(\"Please enter a valid number!\")"
      ],
      "metadata": {
        "id": "Jcz4sZ49vXbc",
        "colab": {
          "base_uri": "https://localhost:8080/"
        },
        "outputId": "ef9641e6-ec7c-4c25-fae3-b40765bc17e3"
      },
      "execution_count": 4,
      "outputs": [
        {
          "output_type": "stream",
          "name": "stdout",
          "text": [
            "Please enter a valid number!\n"
          ]
        }
      ]
    },
    {
      "cell_type": "code",
      "source": [
        " #TypeError;\n",
        "#Jab aap do alag-alag data types ke sath aise kaam karne ki koshish karte ho jo allowed nahi hai.\n",
        "#Example:\n",
        "try:\n",
        "    result = \"hello\" + 5\n",
        "except TypeError:\n",
        "    print(\"You cannot add a string and an integer!\")"
      ],
      "metadata": {
        "id": "rHMz4bwevmHq",
        "colab": {
          "base_uri": "https://localhost:8080/"
        },
        "outputId": "c0c8fece-1208-4144-b950-97c49528fc3e"
      },
      "execution_count": 5,
      "outputs": [
        {
          "output_type": "stream",
          "name": "stdout",
          "text": [
            "You cannot add a string and an integer!\n"
          ]
        }
      ]
    },
    {
      "cell_type": "code",
      "source": [
        "#IndexError\n",
        "Jab aap list ya array mein kisi index ko access karte ho jo available nahi hai.\n",
        "Example:\n",
        "my_list = [1, 2, 3]\n",
        "try:\n",
        "    print(my_list[5])\n",
        "except IndexError:\n",
        "    print(\"Index out of range!\")"
      ],
      "metadata": {
        "id": "eIKw2vgDvwlJ"
      },
      "execution_count": null,
      "outputs": []
    },
    {
      "cell_type": "code",
      "source": [
        "#KeyError;\n",
        "#Jab aap dictionary mein kisi aise key ko access karte ho jo exist nahi karti.\n",
        "#Example:\n",
        "my_dict = {\"name\": \"nihal\"}\n",
        "try:\n",
        "    print(my_dict[\"age\"])\n",
        "except KeyError:\n",
        "    print(\"That key does not exist!\")"
      ],
      "metadata": {
        "id": "DdAeuIdxv3Yp",
        "colab": {
          "base_uri": "https://localhost:8080/"
        },
        "outputId": "a36dc148-d94a-4019-a7d8-50a95a7ce939"
      },
      "execution_count": 6,
      "outputs": [
        {
          "output_type": "stream",
          "name": "stdout",
          "text": [
            "That key does not exist!\n"
          ]
        }
      ]
    },
    {
      "cell_type": "code",
      "source": [
        "#FileNotFoundError;\n",
        "#Jab aap kisi file ko open karne ki koshish karte ho jo exist nahi karti.\n",
        "#Example:\n",
        "try:\n",
        "    file = open(\"non_existent_file.txt\")\n",
        "except FileNotFoundError:\n",
        "    print(\"File not found!\")"
      ],
      "metadata": {
        "id": "l8fpcs7AwEXI",
        "colab": {
          "base_uri": "https://localhost:8080/"
        },
        "outputId": "83750828-e5b5-492a-a885-ce37c3317dff"
      },
      "execution_count": 7,
      "outputs": [
        {
          "output_type": "stream",
          "name": "stdout",
          "text": [
            "File not found!\n"
          ]
        }
      ]
    },
    {
      "cell_type": "code",
      "source": [
        "#AttributeError;\n",
        "#Jab aap kisi aise attribute ko access karte ho jo object mein exist nahi karta.\n",
        "#Example:\n",
        "my_list = [1, 2, 3]\n",
        "try:\n",
        "    my_list.upper()\n",
        "except AttributeError:\n",
        "    print(\"List does not have that attribute!\")"
      ],
      "metadata": {
        "id": "lowpILnQwN6x",
        "colab": {
          "base_uri": "https://localhost:8080/"
        },
        "outputId": "49f2bb69-8f68-4068-f621-f038db5cfd9d"
      },
      "execution_count": 8,
      "outputs": [
        {
          "output_type": "stream",
          "name": "stdout",
          "text": [
            "List does not have that attribute!\n"
          ]
        }
      ]
    },
    {
      "cell_type": "code",
      "source": [
        "try:\n",
        "    number = int(input(\"Enter a number: \"))\n",
        "    result = 10 / number\n",
        "    print(\"Result is:\", result)\n",
        "except ZeroDivisionError:\n",
        "    print(\"You cannot divide by zero!\")\n",
        "except ValueError:\n",
        "    print(\"Please enter a valid number!\")\n"
      ],
      "metadata": {
        "colab": {
          "base_uri": "https://localhost:8080/"
        },
        "id": "Q61pgv4RAzKZ",
        "outputId": "20bbee8f-3955-4156-9620-45989563fef8"
      },
      "execution_count": 9,
      "outputs": [
        {
          "output_type": "stream",
          "name": "stdout",
          "text": [
            "Enter a number: 9\n",
            "Result is: 1.1111111111111112\n"
          ]
        }
      ]
    },
    {
      "cell_type": "code",
      "source": [
        "li :list[int]=[1,2,3,4]\n",
        "\n",
        "   try:\n",
        "      index=int(input(\"enter the num\"))\n",
        "      print(li[index])\n",
        "      print(5/index)\n",
        "   except(ZeroDivisionError):\n",
        "       print(\"you cannot by zero\")\n",
        "   except(ValueError):\n",
        "       print(\"you cannot by value\")\n",
        "   except(TypeError) :\n",
        "       print('not\"str\"')\n"
      ],
      "metadata": {
        "colab": {
          "base_uri": "https://localhost:8080/"
        },
        "id": "Qnsx1eQW_n9H",
        "outputId": "1d403428-b2a2-4698-ece8-1d9aa9cbc5f0"
      },
      "execution_count": 11,
      "outputs": [
        {
          "output_type": "stream",
          "name": "stdout",
          "text": [
            "enter the num2\n",
            "3\n",
            "2.5\n"
          ]
        }
      ]
    }
  ]
}
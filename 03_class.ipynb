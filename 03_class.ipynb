{
  "nbformat": 4,
  "nbformat_minor": 0,
  "metadata": {
    "colab": {
      "provenance": []
    },
    "kernelspec": {
      "name": "python3",
      "display_name": "Python 3"
    },
    "language_info": {
      "name": "python"
    }
  },
  "cells": [
    {
      "cell_type": "code",
      "execution_count": 2,
      "metadata": {
        "colab": {
          "base_uri": "https://localhost:8080/"
        },
        "id": "BIW-aUCiXadp",
        "outputId": "c3c4fabf-8434-40df-8605-a3dd20549f8b"
      },
      "outputs": [
        {
          "output_type": "stream",
          "name": "stdout",
          "text": [
            "['hanzala raza', 'bilal raza', 'nihal raza']\n"
          ]
        }
      ],
      "source": [
        "student=[\"hanzala raza\",\"bilal raza\",\"nihal raza\"];\n",
        "\n",
        "print(student)"
      ]
    },
    {
      "cell_type": "code",
      "source": [
        "print(student[2])"
      ],
      "metadata": {
        "colab": {
          "base_uri": "https://localhost:8080/"
        },
        "id": "pV3c_v_PPL4H",
        "outputId": "41d5a545-96ef-49ac-9a62-da0894a53e05"
      },
      "execution_count": 3,
      "outputs": [
        {
          "output_type": "stream",
          "name": "stdout",
          "text": [
            "nihal raza\n"
          ]
        }
      ]
    },
    {
      "cell_type": "code",
      "source": [
        "for all in student:\n",
        "  print(all)"
      ],
      "metadata": {
        "colab": {
          "base_uri": "https://localhost:8080/"
        },
        "id": "XLYyngBNYvLR",
        "outputId": "a9d62a43-bb9f-4346-bd83-6cfb9eafb19b"
      },
      "execution_count": 5,
      "outputs": [
        {
          "output_type": "stream",
          "name": "stdout",
          "text": [
            "hanzala raza\n",
            "bilal raza\n",
            "nihal raza\n"
          ]
        }
      ]
    },
    {
      "cell_type": "code",
      "source": [
        "my_loop=[10,10,10]"
      ],
      "metadata": {
        "id": "_3qAcm7edicB"
      },
      "execution_count": 6,
      "outputs": []
    },
    {
      "cell_type": "code",
      "source": [
        "for result in my_loop:\n",
        "    num=result\n",
        "    print(num)\n"
      ],
      "metadata": {
        "id": "7-lL78XOdNmU",
        "colab": {
          "base_uri": "https://localhost:8080/"
        },
        "outputId": "26aca145-87c3-43c8-e954-fc1bc43f4d94"
      },
      "execution_count": 8,
      "outputs": [
        {
          "output_type": "stream",
          "name": "stdout",
          "text": [
            "10\n",
            "10\n",
            "10\n"
          ]
        }
      ]
    }
  ]
}
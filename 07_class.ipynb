{
  "cells": [
    {
      "cell_type": "code",
      "execution_count": null,
      "metadata": {
        "colab": {
          "base_uri": "https://localhost:8080/"
        },
        "id": "wjWVp7e9jvxl",
        "outputId": "fd489039-534e-4cc7-e2c7-3a21d084d577"
      },
      "outputs": [
        {
          "name": "stdout",
          "output_type": "stream",
          "text": [
            "enter your age23\n",
            "can vote\n",
            "can drive\n"
          ]
        }
      ],
      "source": [
        "age=int(input(\"enter your age\"))\n",
        "if (age > 18):\n",
        "    print(\"can vote\")\n",
        "    print(\"can drive\")\n",
        "elif (age == 18):\n",
        "    print(\"cannot but 1 month wait vote\")\n",
        "    print(\"cannot but 1 month wait drive\")\n",
        "else:\n",
        "    print(\"cannot vote\")\n",
        "    print(\"cannot drive\")\n"
      ]
    },
    {
      "cell_type": "code",
      "execution_count": 4,
      "metadata": {
        "id": "I-jDnpCVkUsS",
        "colab": {
          "base_uri": "https://localhost:8080/"
        },
        "outputId": "c7b8fcb0-f0e7-4e42-b74e-85c080190374"
      },
      "outputs": [
        {
          "output_type": "stream",
          "name": "stdout",
          "text": [
            "enter your rollnumber8543\n",
            "please enter a correct roll number\n"
          ]
        }
      ],
      "source": [
        "position=int(input(\"enter your rollnumber\"))\n",
        "if(position==9005):\n",
        "    print(\"habib ur rehman\")\n",
        "    print(100)\n",
        "    print(\"top medal\")\n",
        "    print(\"congrulation\")\n",
        "elif (position==9105):\n",
        "    print(\"nihal raza\")\n",
        "    print(95)\n",
        "    print(\"gold medal\")\n",
        "    print(\"congrulation\")\n",
        "elif (position==9205):\n",
        "    print(\"sheikh huzaifa\")\n",
        "    print(85)\n",
        "    print(\"silver medal\")\n",
        "    print(\"congrulation\")\n",
        "elif (position==9305):\n",
        "    print(\"khizer zahid\")\n",
        "    print(100)\n",
        "    print(\"bronze medal\")\n",
        "    print(\"congrulation\")\n",
        "\n",
        "else:\n",
        "    print(\"please enter a correct roll number\")"
      ]
    }
  ],
  "metadata": {
    "accelerator": "GPU",
    "colab": {
      "gpuType": "T4",
      "provenance": []
    },
    "kernelspec": {
      "display_name": "Python 3",
      "name": "python3"
    },
    "language_info": {
      "name": "python"
    }
  },
  "nbformat": 4,
  "nbformat_minor": 0
}
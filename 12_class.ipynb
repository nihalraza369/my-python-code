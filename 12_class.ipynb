{
  "nbformat": 4,
  "nbformat_minor": 0,
  "metadata": {
    "colab": {
      "provenance": []
    },
    "kernelspec": {
      "name": "python3",
      "display_name": "Python 3"
    },
    "language_info": {
      "name": "python"
    }
  },
  "cells": [
    {
      "cell_type": "markdown",
      "source": [
        "##* **args**"
      ],
      "metadata": {
        "id": "lkZw5H4NBusM"
      }
    },
    {
      "cell_type": "code",
      "source": [
        "def my_function(*args):\n",
        "    for arg in args:\n",
        "        print(arg)\n",
        "\n",
        "my_function(10, 20, 30, 40)\n"
      ],
      "metadata": {
        "colab": {
          "base_uri": "https://localhost:8080/"
        },
        "id": "-jVEUU8Z9HOr",
        "outputId": "ad25d18a-aaa4-4432-b10c-5b8d2b07f692"
      },
      "execution_count": 41,
      "outputs": [
        {
          "output_type": "stream",
          "name": "stdout",
          "text": [
            "10\n",
            "20\n",
            "30\n",
            "40\n"
          ]
        }
      ]
    },
    {
      "cell_type": "markdown",
      "source": [
        "##** **kwargs**"
      ],
      "metadata": {
        "id": "n1I5iC54CBea"
      }
    },
    {
      "cell_type": "code",
      "source": [
        "def my_function(**kwargs):\n",
        "    for key, value in kwargs.items():\n",
        "        print(f\"{key}: {value}\")\n",
        "\n",
        "my_function(name=\"Alice\", age=30, city=\"New York\")\n"
      ],
      "metadata": {
        "colab": {
          "base_uri": "https://localhost:8080/"
        },
        "id": "2QZb2Ssf9Rsy",
        "outputId": "6e71b84c-0e72-4d8a-cd8e-38001238c30d"
      },
      "execution_count": 40,
      "outputs": [
        {
          "output_type": "stream",
          "name": "stdout",
          "text": [
            "name: Alice\n",
            "age: 30\n",
            "city: New York\n"
          ]
        }
      ]
    },
    {
      "cell_type": "markdown",
      "source": [
        "##***args** & ** **kwargs**"
      ],
      "metadata": {
        "id": "C-Y6OFnqCMj6"
      }
    },
    {
      "cell_type": "code",
      "source": [
        "def my_function(arg1, *args, kwargs1=\"default\", **kwargs):\n",
        "    print(f\"First argument: {arg1}\")\n",
        "    print(\"Positional arguments:\", args)\n",
        "    print(f\"Keyword argument with default: {kwargs1}\")\n",
        "    print(\"Additional keyword arguments:\", kwargs)\n",
        "\n",
        "my_function(1, 2, 3, 4, kwargs1=\"custom\", name=\"nihal\", age=16)\n"
      ],
      "metadata": {
        "colab": {
          "base_uri": "https://localhost:8080/"
        },
        "id": "EGsQQbb1_v6s",
        "outputId": "10df1de8-2cf7-4021-f072-d353a8b6ead3"
      },
      "execution_count": 53,
      "outputs": [
        {
          "output_type": "stream",
          "name": "stdout",
          "text": [
            "First argument: 1\n",
            "Positional arguments: (2, 3, 4)\n",
            "Keyword argument with default: custom\n",
            "Additional keyword arguments: {'name': 'nihal', 'age': 16}\n"
          ]
        }
      ]
    }
  ]
}